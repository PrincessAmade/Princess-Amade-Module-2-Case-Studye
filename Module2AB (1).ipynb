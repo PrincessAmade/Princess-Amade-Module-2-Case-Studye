{
 "cells": [
  {
   "cell_type": "code",
   "execution_count": null,
   "id": "95b05b11-7526-496d-a013-87d297112da9",
   "metadata": {},
   "outputs": [
    {
     "name": "stdin",
     "output_type": "stream",
     "text": [
      "What is your last name?  Amade\n",
      "What is your first name?  Princess\n",
      "What is your GPA?  3.3\n"
     ]
    },
    {
     "name": "stdout",
     "output_type": "stream",
     "text": [
      "Amade Princess has made the Honor Roll\n"
     ]
    },
    {
     "name": "stdin",
     "output_type": "stream",
     "text": [
      "What is your last name?  Taylor\n",
      "What is your first name?  Holder\n",
      "What is your GPA?  3.9\n"
     ]
    },
    {
     "name": "stdout",
     "output_type": "stream",
     "text": [
      "Taylor Holder has made the Dean's List\n"
     ]
    },
    {
     "name": "stdin",
     "output_type": "stream",
     "text": [
      "What is your last name?  Kia\n",
      "What is your first name?  Tay\n",
      "What is your GPA?  3.4\n"
     ]
    },
    {
     "name": "stdout",
     "output_type": "stream",
     "text": [
      "Kia Tay has made the Honor Roll\n"
     ]
    },
    {
     "name": "stdin",
     "output_type": "stream",
     "text": [
      "What is your last name?  Sky\n",
      "What is your first name?  Trip\n",
      "What is your GPA?  3.7\n"
     ]
    },
    {
     "name": "stdout",
     "output_type": "stream",
     "text": [
      "Sky Trip has made the Dean's List\n"
     ]
    },
    {
     "name": "stdin",
     "output_type": "stream",
     "text": [
      "What is your last name?  Paige\n",
      "What is your first name?  Grey\n",
      "What is your GPA?  3.6\n"
     ]
    },
    {
     "name": "stdout",
     "output_type": "stream",
     "text": [
      "Paige Grey has made the Dean's List\n"
     ]
    }
   ],
   "source": [
    "while True:\n",
    "   last_name = input(\"What is your last name? \")\n",
    "   if last_name == 'ZZZ':\n",
    "      print(\"Enter a valid first name\")\n",
    "      break\n",
    "   else:\n",
    "      first_name = input(\"What is your first name? \")\n",
    "      GPA = float(input(\"What is your GPA? \"))\n",
    " \n",
    "      if GPA >= 3.5:\n",
    "       print(last_name,first_name, \"has made the Dean's List\")\n",
    "\n",
    "      elif GPA >= 3.25:\n",
    "       print(last_name,first_name, \"has made the Honor Roll\")\n",
    "\n",
    "      else:\n",
    "       print(last_name, first_name, \"GPA is \", GPA)"
   ]
  }
 ],
 "metadata": {
  "kernelspec": {
   "display_name": "Python 3 (ipykernel)",
   "language": "python",
   "name": "python3"
  },
  "language_info": {
   "codemirror_mode": {
    "name": "ipython",
    "version": 3
   },
   "file_extension": ".py",
   "mimetype": "text/x-python",
   "name": "python",
   "nbconvert_exporter": "python",
   "pygments_lexer": "ipython3",
   "version": "3.12.7"
  }
 },
 "nbformat": 4,
 "nbformat_minor": 5
}
